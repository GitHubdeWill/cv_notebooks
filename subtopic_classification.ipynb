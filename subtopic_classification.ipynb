{
 "cells": [
  {
   "cell_type": "code",
   "execution_count": 40,
   "metadata": {},
   "outputs": [],
   "source": [
    "import numpy as np\n",
    "import math\n",
    "import pickle\n",
    "import operator\n",
    "import matplotlib.pyplot as plt\n",
    "import matplotlib.image as mpimg\n",
    "import urllib2\n",
    "import time\n",
    "from scipy.misc import imread\n",
    "from scipy.misc import imresize\n",
    "from scipy.optimize import linear_sum_assignment\n",
    "from gensim import corpora, models"
   ]
  },
  {
   "cell_type": "code",
   "execution_count": 41,
   "metadata": {},
   "outputs": [],
   "source": [
    "DATA_PATH = \"../data2/\""
   ]
  },
  {
   "cell_type": "code",
   "execution_count": 36,
   "metadata": {},
   "outputs": [],
   "source": [
    "# Topics count (7, 20, 50, 100)\n",
    "NUM_TOPIC = 20\n",
    "# Features for Topics\n",
    "NUM_FEATURE = 4096\n",
    "# Amount of images being classified\n",
    "NUM_IMAGE = 1000"
   ]
  },
  {
   "cell_type": "code",
   "execution_count": 38,
   "metadata": {
    "scrolled": false
   },
   "outputs": [
    {
     "name": "stdout",
     "output_type": "stream",
     "text": [
      "(99939,)\n"
     ]
    }
   ],
   "source": [
    "# Load image data\n",
    "image_data = np.load(DATA_PATH + 'image_list_yfcc100m_output_100k_crop.npy')\n",
    "print(image_data.shape)"
   ]
  },
  {
   "cell_type": "code",
   "execution_count": 33,
   "metadata": {},
   "outputs": [],
   "source": [
    "# Load Training set data\n",
    "X = np.load(DATA_PATH + 'one_hot_yfcc100m.npy')"
   ]
  },
  {
   "cell_type": "code",
   "execution_count": 35,
   "metadata": {
    "scrolled": true
   },
   "outputs": [
    {
     "name": "stdout",
     "output_type": "stream",
     "text": [
      "('Data shape: ', (99939, 4096))\n",
      "('Number of 0s: ', 52660733)\n",
      "('Number of 1s: ', 356689411)\n",
      "('Anomailes: ', 0)\n"
     ]
    }
   ],
   "source": [
    "# Get data statistics, as a sanity check\n",
    "print(\"Data shape: \", X.shape)\n",
    "print(\"Number of 0s: \", np.sum(X == 1))\n",
    "print(\"Number of 1s: \", np.sum(X == 0))\n",
    "print(\"Anomailes: \",np.sum([X < 0]))"
   ]
  },
  {
   "cell_type": "code",
   "execution_count": 39,
   "metadata": {},
   "outputs": [
    {
     "name": "stdout",
     "output_type": "stream",
     "text": [
      "Loading model: 20-topics.model\n"
     ]
    }
   ],
   "source": [
    "model_name = str(NUM_TOPIC) + '-topics.model'\n",
    "topics_file_name = 'topic_model_features_' + str(NUM_TOPIC) +'_topics.npy'\n",
    "topics_per_image_file_name = 'topics_per_image-' + str(NUM_TOPIC) +'_topics.npy'\n",
    "print(\"Loading model: \" + model_name)"
   ]
  },
  {
   "cell_type": "code",
   "execution_count": 42,
   "metadata": {},
   "outputs": [
    {
     "name": "stdout",
     "output_type": "stream",
     "text": [
      "LdaModel(num_terms=4096, num_topics=20, decay=0.5, chunksize=2000)\n"
     ]
    }
   ],
   "source": [
    "# load trained data\n",
    "lda = models.ldamodel.LdaModel.load(DATA_PATH + model_name)\n",
    "print(lda)"
   ]
  },
  {
   "cell_type": "code",
   "execution_count": 44,
   "metadata": {
    "scrolled": true
   },
   "outputs": [],
   "source": [
    "# Process the raw data\n",
    "doc = []\n",
    "bow = []\n",
    "for i in range(NUM_IMAGE):\n",
    "    doc_list = []\n",
    "    bow_list = []\n",
    "    for j in range(X.shape[1]): # 4096\n",
    "        doc_list.append((j, X[i,j]))\n",
    "        bow_list.append(X[i,j])\n",
    "    doc.append(doc_list)\n",
    "    bow.append(bow_list)"
   ]
  },
  {
   "cell_type": "code",
   "execution_count": null,
   "metadata": {},
   "outputs": [],
   "source": []
  }
 ],
 "metadata": {
  "kernelspec": {
   "display_name": "Python 2",
   "language": "python",
   "name": "python2"
  },
  "language_info": {
   "codemirror_mode": {
    "name": "ipython",
    "version": 2
   },
   "file_extension": ".py",
   "mimetype": "text/x-python",
   "name": "python",
   "nbconvert_exporter": "python",
   "pygments_lexer": "ipython2",
   "version": "2.7.15rc1"
  }
 },
 "nbformat": 4,
 "nbformat_minor": 2
}
